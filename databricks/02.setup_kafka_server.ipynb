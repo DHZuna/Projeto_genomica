{
 "cells": [
  {
   "cell_type": "markdown",
   "metadata": {
    "application/vnd.databricks.v1+cell": {
     "cellMetadata": {
      "byteLimit": 2048000,
      "rowLimit": 10000
     },
     "inputWidgets": {},
     "nuid": "7a4b5150-e61f-4385-8164-351d93290d77",
     "showTitle": false,
     "title": ""
    }
   },
   "source": [
    "## 4- EXECUTAR SERVER"
   ]
  },
  {
   "cell_type": "code",
   "execution_count": 0,
   "metadata": {
    "application/vnd.databricks.v1+cell": {
     "cellMetadata": {
      "byteLimit": 2048000,
      "rowLimit": 10000
     },
     "inputWidgets": {},
     "nuid": "a6c5f47a-f0cb-425c-a6c2-9a8be59c4e8a",
     "showTitle": false,
     "title": ""
    }
   },
   "outputs": [],
   "source": [
    "%sh \n",
    "/dbfs/projeto/kafka_2.12-3.8.0/bin/kafka-server-start.sh /dbfs/projeto/kafka_2.12-3.8.0/config/server.properties"
   ]
  }
 ],
 "metadata": {
  "application/vnd.databricks.v1+notebook": {
   "dashboards": [],
   "environmentMetadata": null,
   "language": "python",
   "notebookMetadata": {
    "mostRecentlyExecutedCommandWithImplicitDF": {
     "commandId": 898858298568824,
     "dataframes": [
      "_sqldf"
     ]
    },
    "pythonIndentUnit": 4
   },
   "notebookName": "02.setup_kafka_server",
   "widgets": {}
  }
 },
 "nbformat": 4,
 "nbformat_minor": 0
}
