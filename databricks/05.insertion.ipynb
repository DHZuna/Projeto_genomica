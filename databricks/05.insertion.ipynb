{
 "cells": [
  {
   "cell_type": "markdown",
   "metadata": {
    "application/vnd.databricks.v1+cell": {
     "cellMetadata": {
      "byteLimit": 2048000,
      "rowLimit": 10000
     },
     "inputWidgets": {},
     "nuid": "716372ea-5ba1-40e6-beca-71f28fe7bc8a",
     "showTitle": false,
     "title": ""
    }
   },
   "source": [
    "# Bibliotecas"
   ]
  },
  {
   "cell_type": "code",
   "execution_count": 0,
   "metadata": {
    "application/vnd.databricks.v1+cell": {
     "cellMetadata": {
      "byteLimit": 2048000,
      "rowLimit": 10000
     },
     "inputWidgets": {},
     "nuid": "2b01485c-ddfd-4933-92f2-622277609cf5",
     "showTitle": false,
     "title": ""
    }
   },
   "outputs": [],
   "source": [
    "from newsapi import NewsApiClient\n",
    "from kafka import KafkaProducer\n",
    "import pickle\n",
    "import time\n",
    "import datetime"
   ]
  },
  {
   "cell_type": "markdown",
   "metadata": {
    "application/vnd.databricks.v1+cell": {
     "cellMetadata": {
      "byteLimit": 2048000,
      "rowLimit": 10000
     },
     "inputWidgets": {},
     "nuid": "7f036913-f2e9-49d6-80d4-8602581542db",
     "showTitle": false,
     "title": ""
    }
   },
   "source": [
    "# Variáveis"
   ]
  },
  {
   "cell_type": "code",
   "execution_count": 0,
   "metadata": {
    "application/vnd.databricks.v1+cell": {
     "cellMetadata": {
      "byteLimit": 2048000,
      "rowLimit": 10000
     },
     "inputWidgets": {},
     "nuid": "0910720a-4dc4-4739-9375-18f03b7dc32b",
     "showTitle": false,
     "title": ""
    }
   },
   "outputs": [],
   "source": [
    "# Env\n",
    "apikey = \"COLOCAR A APIKEY\"\n",
    "create_folder = \"/FileStore/Projeto/data\""
   ]
  },
  {
   "cell_type": "code",
   "execution_count": 0,
   "metadata": {
    "application/vnd.databricks.v1+cell": {
     "cellMetadata": {
      "byteLimit": 2048000,
      "rowLimit": 10000
     },
     "inputWidgets": {},
     "nuid": "6263e67f-7ce6-4f70-931e-8e7abea9435b",
     "showTitle": false,
     "title": ""
    }
   },
   "outputs": [
    {
     "data": {
      "text/plain": [
       "True"
      ]
     },
     "execution_count": 4,
     "metadata": {},
     "output_type": "execute_result"
    }
   ],
   "source": [
    "# Cria a pasta de projeto\n",
    "dbutils.fs.mkdirs(create_folder)"
   ]
  },
  {
   "cell_type": "markdown",
   "metadata": {
    "application/vnd.databricks.v1+cell": {
     "cellMetadata": {
      "byteLimit": 2048000,
      "rowLimit": 10000
     },
     "inputWidgets": {},
     "nuid": "112dd60a-b168-4670-b731-d0718716171e",
     "showTitle": false,
     "title": ""
    }
   },
   "source": [
    "# API"
   ]
  },
  {
   "cell_type": "code",
   "execution_count": 0,
   "metadata": {
    "application/vnd.databricks.v1+cell": {
     "cellMetadata": {
      "byteLimit": 2048000,
      "rowLimit": 10000
     },
     "inputWidgets": {},
     "nuid": "ab520022-8302-4f81-890d-b17c7954f005",
     "showTitle": false,
     "title": ""
    }
   },
   "outputs": [],
   "source": [
    "# Objeto para manipulação da API\n",
    "class APIClient:\n",
    "    def __init__(self, key, query) -> None:\n",
    "        self.__client = NewsApiClient(api_key=key)\n",
    "        self.__query = query\n",
    "        self.__all_data = None\n",
    "        self.__articles = []\n",
    "\n",
    "    \n",
    "    # Realização do request\n",
    "    def search(self, page):\n",
    "        # Tenta pegar todos os dados do request\n",
    "        try:\n",
    "            self.__all_data = self.__client.get_everything(q=self.__query, page = page)\n",
    "        except:\n",
    "            self.__all_data = {\"status\": \"end\"}\n",
    "\n",
    "\n",
    "    # Filtra os artigos do request feito\n",
    "    def get_articles(self):\n",
    "        page = 1\n",
    "        self.search(page=page)\n",
    "        while self.__all_data[\"status\"] == \"ok\":\n",
    "            self.__articles += self.__all_data[\"articles\"]\n",
    "            page += 1\n",
    "            self.search(page=page)\n",
    "\n",
    "    @property\n",
    "    def articles(self):\n",
    "        return self.__articles\n",
    "    \n",
    "    @property\n",
    "    def all_data(self):\n",
    "        return self.__all_data"
   ]
  },
  {
   "cell_type": "markdown",
   "metadata": {
    "application/vnd.databricks.v1+cell": {
     "cellMetadata": {
      "byteLimit": 2048000,
      "rowLimit": 10000
     },
     "inputWidgets": {},
     "nuid": "b0cd41f5-ca2f-4f5c-9cf6-17813ef81148",
     "showTitle": false,
     "title": ""
    }
   },
   "source": [
    "# Critérios de Busca"
   ]
  },
  {
   "cell_type": "code",
   "execution_count": 0,
   "metadata": {
    "application/vnd.databricks.v1+cell": {
     "cellMetadata": {
      "byteLimit": 2048000,
      "rowLimit": 10000
     },
     "inputWidgets": {},
     "nuid": "d7f6bff3-4d6b-40a8-863c-1c652a958f02",
     "showTitle": false,
     "title": ""
    }
   },
   "outputs": [],
   "source": [
    "# Objeto de definição de pesquisa e palavras chave\n",
    "class Search_Criteria:\n",
    "    def __init__(self, subject, keywords=[]):\n",
    "        self.__subject = subject # \"genomics\"\n",
    "        self.__keywords = keywords # [\"DNA\", \"genetics\", \"treatment\"]\n",
    "    \n",
    "    def add_keyworkd(self, new_keyword):\n",
    "        self.__keywords.append(new_keyword)\n",
    "\n",
    "    def remove_keyworkd(self, old_keyword):\n",
    "        self.__keywords.pop(self.__keywords.index(old_keyword))\n",
    "\n",
    "    @property\n",
    "    def subject(self):\n",
    "        return self.__subject\n",
    "    \n",
    "    @subject.setter\n",
    "    def subject(self, new_subject):\n",
    "        self.__subject = new_subject\n",
    "\n",
    "    @property\n",
    "    def keywords(self):\n",
    "        return self.__keywords"
   ]
  },
  {
   "cell_type": "markdown",
   "metadata": {
    "application/vnd.databricks.v1+cell": {
     "cellMetadata": {
      "byteLimit": 2048000,
      "rowLimit": 10000
     },
     "inputWidgets": {},
     "nuid": "b9ab6d48-4e5c-4065-adb8-f918f06b347a",
     "showTitle": false,
     "title": ""
    }
   },
   "source": [
    "# Producer"
   ]
  },
  {
   "cell_type": "code",
   "execution_count": 0,
   "metadata": {
    "application/vnd.databricks.v1+cell": {
     "cellMetadata": {
      "byteLimit": 2048000,
      "rowLimit": 10000
     },
     "inputWidgets": {},
     "nuid": "7f11f521-499f-4777-84fd-714ca3ce529e",
     "showTitle": false,
     "title": ""
    }
   },
   "outputs": [],
   "source": [
    "producer = KafkaProducer(bootstrap_servers=[\"localhost: 9092\"])\n",
    "topic = \"genomics-news\""
   ]
  },
  {
   "cell_type": "markdown",
   "metadata": {
    "application/vnd.databricks.v1+cell": {
     "cellMetadata": {
      "byteLimit": 2048000,
      "rowLimit": 10000
     },
     "inputWidgets": {},
     "nuid": "af19b93d-d644-46bd-aa7c-d708f6b58379",
     "showTitle": false,
     "title": ""
    }
   },
   "source": [
    "# Rotina"
   ]
  },
  {
   "cell_type": "code",
   "execution_count": 0,
   "metadata": {
    "application/vnd.databricks.v1+cell": {
     "cellMetadata": {
      "byteLimit": 2048000,
      "rowLimit": 10000
     },
     "inputWidgets": {},
     "nuid": "174a8878-79fb-46f0-b061-34bd9e38c55d",
     "showTitle": false,
     "title": ""
    }
   },
   "outputs": [],
   "source": [
    "# Instanciando objeto de critérios de pesquisa\n",
    "search_object = Search_Criteria(\"genomics\", [\"DNA\", \"genetic\", \"treatment\"])\n",
    "\n",
    "# Instanciando API\n",
    "news_api = APIClient(apikey, search_object.subject)\n",
    "\n",
    "# Minutos para adquirir dados\n",
    "specific_time = [0, 10, 20, 30, 40, 50]\n",
    "\n",
    "while True:\n",
    "    now = datetime.datetime.now()\n",
    "    current_minute = now.minute\n",
    "    \n",
    "    if current_minute in specific_time:\n",
    "        \n",
    "        # Adquirindo todos os artigos\n",
    "        news_api.get_articles()\n",
    "\n",
    "        # Enviando artigos\n",
    "        producer.send(topic, pickle.dumps(news_api.articles))\n",
    "\n",
    "        print(\"Dados recolhidos da API\")\n",
    "\n",
    "        time.sleep(60)  # Pausa de 60 segundos para evitar múltiplas execuções no mesmo minuto\n",
    "    else:\n",
    "        time.sleep(30)  # Verifica a cada 30 segundos"
   ]
  }
 ],
 "metadata": {
  "application/vnd.databricks.v1+notebook": {
   "dashboards": [],
   "environmentMetadata": null,
   "language": "python",
   "notebookMetadata": {
    "mostRecentlyExecutedCommandWithImplicitDF": {
     "commandId": 1845993435367343,
     "dataframes": [
      "_sqldf"
     ]
    },
    "pythonIndentUnit": 4
   },
   "notebookName": "05.insertion",
   "widgets": {}
  },
  "language_info": {
   "name": "python"
  }
 },
 "nbformat": 4,
 "nbformat_minor": 0
}
