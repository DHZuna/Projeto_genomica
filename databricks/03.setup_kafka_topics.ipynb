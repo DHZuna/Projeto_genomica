{
 "cells": [
  {
   "cell_type": "markdown",
   "metadata": {
    "application/vnd.databricks.v1+cell": {
     "cellMetadata": {
      "byteLimit": 2048000,
      "rowLimit": 10000
     },
     "inputWidgets": {},
     "nuid": "884fe1f2-eaf5-4888-b7f1-7e992c1df68c",
     "showTitle": false,
     "title": ""
    }
   },
   "source": [
    "## 5- CRIAR UM TÓPICO"
   ]
  },
  {
   "cell_type": "code",
   "execution_count": 0,
   "metadata": {
    "application/vnd.databricks.v1+cell": {
     "cellMetadata": {
      "byteLimit": 2048000,
      "rowLimit": 10000
     },
     "inputWidgets": {},
     "nuid": "18c6e68a-f8f3-4d84-97b8-1f1049d5c823",
     "showTitle": false,
     "title": ""
    }
   },
   "outputs": [
    {
     "output_type": "stream",
     "name": "stdout",
     "output_type": "stream",
     "text": [
      "Created topic genomics-news.\n"
     ]
    }
   ],
   "source": [
    "%sh\n",
    "/dbfs/projeto/kafka_2.12-3.8.0/bin/kafka-topics.sh --bootstrap-server localhost:9092 --create --topic genomics-news --partitions 1 --replication-factor 1"
   ]
  },
  {
   "cell_type": "code",
   "execution_count": 0,
   "metadata": {
    "application/vnd.databricks.v1+cell": {
     "cellMetadata": {
      "byteLimit": 2048000,
      "rowLimit": 10000
     },
     "inputWidgets": {},
     "nuid": "388dff9a-497e-474f-b945-a404480231d1",
     "showTitle": false,
     "title": ""
    }
   },
   "outputs": [
    {
     "output_type": "stream",
     "name": "stdout",
     "output_type": "stream",
     "text": [
      "Created topic clean-data.\n"
     ]
    }
   ],
   "source": [
    "%sh\n",
    "/dbfs/projeto/kafka_2.12-3.8.0/bin/kafka-topics.sh --bootstrap-server localhost:9092 --create --topic clean-data --partitions 1 --replication-factor 1"
   ]
  }
 ],
 "metadata": {
  "application/vnd.databricks.v1+notebook": {
   "dashboards": [],
   "environmentMetadata": null,
   "language": "python",
   "notebookMetadata": {
    "mostRecentlyExecutedCommandWithImplicitDF": {
     "commandId": 1753460259374838,
     "dataframes": [
      "_sqldf"
     ]
    },
    "pythonIndentUnit": 4
   },
   "notebookName": "03.setup_kafka_topics",
   "widgets": {}
  }
 },
 "nbformat": 4,
 "nbformat_minor": 0
}
