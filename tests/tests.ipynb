{
 "cells": [
  {
   "cell_type": "code",
   "execution_count": 2,
   "metadata": {},
   "outputs": [],
   "source": [
    "# Bibliotecas\n",
    "import sys\n",
    "import os\n",
    "from newsapi import NewsApiClient\n",
    "import pandas as pd\n",
    "import numpy as np"
   ]
  },
  {
   "cell_type": "code",
   "execution_count": 3,
   "metadata": {},
   "outputs": [],
   "source": [
    "# Variáveis\n",
    "sys.path.append(os.path.abspath(os.path.join(os.path.dirname(\"tests.ipynb\"), \"..\", \"env\")))\n",
    "from env_variables import apikey as apikey_temp"
   ]
  },
  {
   "cell_type": "code",
   "execution_count": 4,
   "metadata": {},
   "outputs": [],
   "source": [
    "# Scripts\n",
    "sys.path.append(os.path.abspath(os.path.join(os.path.dirname(\"tests.ipynb\"), \"..\", \"api\")))\n",
    "import api\n",
    "\n",
    "sys.path.append(os.path.abspath(os.path.join(os.path.dirname(\"tests.ipynb\"), \"..\", \"pipeline\")))\n",
    "import pipeline"
   ]
  },
  {
   "cell_type": "code",
   "execution_count": 5,
   "metadata": {},
   "outputs": [
    {
     "data": {
      "text/plain": [
       "<newsapi.newsapi_client.NewsApiClient at 0x2338a4f54f0>"
      ]
     },
     "execution_count": 5,
     "metadata": {},
     "output_type": "execute_result"
    }
   ],
   "source": [
    "news_api = api.api_client(apikey_temp)\n",
    "news_api"
   ]
  },
  {
   "cell_type": "code",
   "execution_count": 6,
   "metadata": {},
   "outputs": [],
   "source": [
    "all_articles = api.get_articles(news_api)"
   ]
  },
  {
   "cell_type": "code",
   "execution_count": 7,
   "metadata": {},
   "outputs": [
    {
     "data": {
      "text/plain": [
       "500"
      ]
     },
     "execution_count": 7,
     "metadata": {},
     "output_type": "execute_result"
    }
   ],
   "source": [
    "len(all_articles)"
   ]
  },
  {
   "cell_type": "code",
   "execution_count": 8,
   "metadata": {},
   "outputs": [
    {
     "data": {
      "text/html": [
       "<div>\n",
       "<style scoped>\n",
       "    .dataframe tbody tr th:only-of-type {\n",
       "        vertical-align: middle;\n",
       "    }\n",
       "\n",
       "    .dataframe tbody tr th {\n",
       "        vertical-align: top;\n",
       "    }\n",
       "\n",
       "    .dataframe thead th {\n",
       "        text-align: right;\n",
       "    }\n",
       "</style>\n",
       "<table border=\"1\" class=\"dataframe\">\n",
       "  <thead>\n",
       "    <tr style=\"text-align: right;\">\n",
       "      <th></th>\n",
       "      <th>source</th>\n",
       "      <th>author</th>\n",
       "      <th>title</th>\n",
       "      <th>description</th>\n",
       "      <th>url</th>\n",
       "      <th>urlToImage</th>\n",
       "      <th>publishedAt</th>\n",
       "      <th>content</th>\n",
       "    </tr>\n",
       "  </thead>\n",
       "  <tbody>\n",
       "    <tr>\n",
       "      <th>0</th>\n",
       "      <td>{'id': None, 'name': 'NPR'}</td>\n",
       "      <td>Nathan Rott</td>\n",
       "      <td>A “golden age” of rat research may be here. Wh...</td>\n",
       "      <td>Rat and human lives have long intersected, but...</td>\n",
       "      <td>https://www.npr.org/sections/shots-health-news...</td>\n",
       "      <td>https://npr.brightspotcdn.com/dims3/default/st...</td>\n",
       "      <td>2024-09-20T11:23:58Z</td>\n",
       "      <td>When ecologist Jason Munshi-South started stud...</td>\n",
       "    </tr>\n",
       "    <tr>\n",
       "      <th>1</th>\n",
       "      <td>{'id': None, 'name': 'BBC News'}</td>\n",
       "      <td>None</td>\n",
       "      <td>First newborns join screening for 200 rare dis...</td>\n",
       "      <td>The new study uses genome sequencing to detect...</td>\n",
       "      <td>https://www.bbc.com/news/articles/c70z8ppjlddo</td>\n",
       "      <td>https://ichef.bbci.co.uk/news/1024/branded_new...</td>\n",
       "      <td>2024-10-03T00:05:37Z</td>\n",
       "      <td>Dominika's one-day-old daughter Emilia is part...</td>\n",
       "    </tr>\n",
       "    <tr>\n",
       "      <th>2</th>\n",
       "      <td>{'id': None, 'name': 'Science Daily'}</td>\n",
       "      <td>None</td>\n",
       "      <td>Genomics reveals sled dogs' Siberian lineage</td>\n",
       "      <td>New research examines thousands of years of Ar...</td>\n",
       "      <td>https://www.sciencedaily.com/releases/2024/09/...</td>\n",
       "      <td>https://www.sciencedaily.com/images/scidaily-i...</td>\n",
       "      <td>2024-09-16T15:55:30Z</td>\n",
       "      <td>New research co-led by Cornell University exam...</td>\n",
       "    </tr>\n",
       "    <tr>\n",
       "      <th>3</th>\n",
       "      <td>{'id': None, 'name': 'Science Daily'}</td>\n",
       "      <td>None</td>\n",
       "      <td>Outbreak detection under-resourced in Asia, st...</td>\n",
       "      <td>A new study has revealed that despite the rece...</td>\n",
       "      <td>https://www.sciencedaily.com/releases/2024/09/...</td>\n",
       "      <td>https://www.sciencedaily.com/images/scidaily-i...</td>\n",
       "      <td>2024-09-24T16:30:08Z</td>\n",
       "      <td>A landmark study led by Duke-NUS Medical Schoo...</td>\n",
       "    </tr>\n",
       "    <tr>\n",
       "      <th>4</th>\n",
       "      <td>{'id': 'business-insider', 'name': 'Business I...</td>\n",
       "      <td>Darius Rafieyan</td>\n",
       "      <td>OpenAI's investors include Silicon Valley's mo...</td>\n",
       "      <td>OpenAI's investors include Silicon Valley's mo...</td>\n",
       "      <td>https://www.businessinsider.com/openai-investo...</td>\n",
       "      <td>https://i.insider.com/65081a0cf05aa00019bdfa0f...</td>\n",
       "      <td>2024-10-03T13:00:01Z</td>\n",
       "      <td>SoftBank boss Masayoshi Son. Tomohiro Ohsumi/G...</td>\n",
       "    </tr>\n",
       "  </tbody>\n",
       "</table>\n",
       "</div>"
      ],
      "text/plain": [
       "                                              source           author  \\\n",
       "0                        {'id': None, 'name': 'NPR'}      Nathan Rott   \n",
       "1                   {'id': None, 'name': 'BBC News'}             None   \n",
       "2              {'id': None, 'name': 'Science Daily'}             None   \n",
       "3              {'id': None, 'name': 'Science Daily'}             None   \n",
       "4  {'id': 'business-insider', 'name': 'Business I...  Darius Rafieyan   \n",
       "\n",
       "                                               title  \\\n",
       "0  A “golden age” of rat research may be here. Wh...   \n",
       "1  First newborns join screening for 200 rare dis...   \n",
       "2       Genomics reveals sled dogs' Siberian lineage   \n",
       "3  Outbreak detection under-resourced in Asia, st...   \n",
       "4  OpenAI's investors include Silicon Valley's mo...   \n",
       "\n",
       "                                         description  \\\n",
       "0  Rat and human lives have long intersected, but...   \n",
       "1  The new study uses genome sequencing to detect...   \n",
       "2  New research examines thousands of years of Ar...   \n",
       "3  A new study has revealed that despite the rece...   \n",
       "4  OpenAI's investors include Silicon Valley's mo...   \n",
       "\n",
       "                                                 url  \\\n",
       "0  https://www.npr.org/sections/shots-health-news...   \n",
       "1     https://www.bbc.com/news/articles/c70z8ppjlddo   \n",
       "2  https://www.sciencedaily.com/releases/2024/09/...   \n",
       "3  https://www.sciencedaily.com/releases/2024/09/...   \n",
       "4  https://www.businessinsider.com/openai-investo...   \n",
       "\n",
       "                                          urlToImage           publishedAt  \\\n",
       "0  https://npr.brightspotcdn.com/dims3/default/st...  2024-09-20T11:23:58Z   \n",
       "1  https://ichef.bbci.co.uk/news/1024/branded_new...  2024-10-03T00:05:37Z   \n",
       "2  https://www.sciencedaily.com/images/scidaily-i...  2024-09-16T15:55:30Z   \n",
       "3  https://www.sciencedaily.com/images/scidaily-i...  2024-09-24T16:30:08Z   \n",
       "4  https://i.insider.com/65081a0cf05aa00019bdfa0f...  2024-10-03T13:00:01Z   \n",
       "\n",
       "                                             content  \n",
       "0  When ecologist Jason Munshi-South started stud...  \n",
       "1  Dominika's one-day-old daughter Emilia is part...  \n",
       "2  New research co-led by Cornell University exam...  \n",
       "3  A landmark study led by Duke-NUS Medical Schoo...  \n",
       "4  SoftBank boss Masayoshi Son. Tomohiro Ohsumi/G...  "
      ]
     },
     "execution_count": 8,
     "metadata": {},
     "output_type": "execute_result"
    }
   ],
   "source": [
    "df = pd.DataFrame(data=all_articles)\n",
    "df.head()"
   ]
  },
  {
   "cell_type": "code",
   "execution_count": 9,
   "metadata": {},
   "outputs": [
    {
     "data": {
      "text/plain": [
       "Index(['source', 'author', 'title', 'description', 'url', 'urlToImage',\n",
       "       'publishedAt', 'content'],\n",
       "      dtype='object')"
      ]
     },
     "execution_count": 9,
     "metadata": {},
     "output_type": "execute_result"
    }
   ],
   "source": [
    "df.columns"
   ]
  },
  {
   "cell_type": "code",
   "execution_count": 10,
   "metadata": {},
   "outputs": [
    {
     "data": {
      "text/html": [
       "<div>\n",
       "<style scoped>\n",
       "    .dataframe tbody tr th:only-of-type {\n",
       "        vertical-align: middle;\n",
       "    }\n",
       "\n",
       "    .dataframe tbody tr th {\n",
       "        vertical-align: top;\n",
       "    }\n",
       "\n",
       "    .dataframe thead th {\n",
       "        text-align: right;\n",
       "    }\n",
       "</style>\n",
       "<table border=\"1\" class=\"dataframe\">\n",
       "  <thead>\n",
       "    <tr style=\"text-align: right;\">\n",
       "      <th></th>\n",
       "      <th>source</th>\n",
       "      <th>author</th>\n",
       "      <th>title</th>\n",
       "      <th>description</th>\n",
       "      <th>url</th>\n",
       "      <th>urlToImage</th>\n",
       "      <th>publishedAt</th>\n",
       "      <th>content</th>\n",
       "    </tr>\n",
       "  </thead>\n",
       "  <tbody>\n",
       "    <tr>\n",
       "      <th>0</th>\n",
       "      <td>NPR</td>\n",
       "      <td>Nathan Rott</td>\n",
       "      <td>A “golden age” of rat research may be here. Wh...</td>\n",
       "      <td>Rat and human lives have long intersected, but...</td>\n",
       "      <td>https://www.npr.org/sections/shots-health-news...</td>\n",
       "      <td>https://npr.brightspotcdn.com/dims3/default/st...</td>\n",
       "      <td>2024-09-20T11:23:58Z</td>\n",
       "      <td>When ecologist Jason Munshi-South started stud...</td>\n",
       "    </tr>\n",
       "    <tr>\n",
       "      <th>1</th>\n",
       "      <td>BBC News</td>\n",
       "      <td>None</td>\n",
       "      <td>First newborns join screening for 200 rare dis...</td>\n",
       "      <td>The new study uses genome sequencing to detect...</td>\n",
       "      <td>https://www.bbc.com/news/articles/c70z8ppjlddo</td>\n",
       "      <td>https://ichef.bbci.co.uk/news/1024/branded_new...</td>\n",
       "      <td>2024-10-03T00:05:37Z</td>\n",
       "      <td>Dominika's one-day-old daughter Emilia is part...</td>\n",
       "    </tr>\n",
       "    <tr>\n",
       "      <th>2</th>\n",
       "      <td>Science Daily</td>\n",
       "      <td>None</td>\n",
       "      <td>Genomics reveals sled dogs' Siberian lineage</td>\n",
       "      <td>New research examines thousands of years of Ar...</td>\n",
       "      <td>https://www.sciencedaily.com/releases/2024/09/...</td>\n",
       "      <td>https://www.sciencedaily.com/images/scidaily-i...</td>\n",
       "      <td>2024-09-16T15:55:30Z</td>\n",
       "      <td>New research co-led by Cornell University exam...</td>\n",
       "    </tr>\n",
       "    <tr>\n",
       "      <th>3</th>\n",
       "      <td>Science Daily</td>\n",
       "      <td>None</td>\n",
       "      <td>Outbreak detection under-resourced in Asia, st...</td>\n",
       "      <td>A new study has revealed that despite the rece...</td>\n",
       "      <td>https://www.sciencedaily.com/releases/2024/09/...</td>\n",
       "      <td>https://www.sciencedaily.com/images/scidaily-i...</td>\n",
       "      <td>2024-09-24T16:30:08Z</td>\n",
       "      <td>A landmark study led by Duke-NUS Medical Schoo...</td>\n",
       "    </tr>\n",
       "    <tr>\n",
       "      <th>4</th>\n",
       "      <td>Business Insider</td>\n",
       "      <td>Darius Rafieyan</td>\n",
       "      <td>OpenAI's investors include Silicon Valley's mo...</td>\n",
       "      <td>OpenAI's investors include Silicon Valley's mo...</td>\n",
       "      <td>https://www.businessinsider.com/openai-investo...</td>\n",
       "      <td>https://i.insider.com/65081a0cf05aa00019bdfa0f...</td>\n",
       "      <td>2024-10-03T13:00:01Z</td>\n",
       "      <td>SoftBank boss Masayoshi Son. Tomohiro Ohsumi/G...</td>\n",
       "    </tr>\n",
       "  </tbody>\n",
       "</table>\n",
       "</div>"
      ],
      "text/plain": [
       "             source           author  \\\n",
       "0               NPR      Nathan Rott   \n",
       "1          BBC News             None   \n",
       "2     Science Daily             None   \n",
       "3     Science Daily             None   \n",
       "4  Business Insider  Darius Rafieyan   \n",
       "\n",
       "                                               title  \\\n",
       "0  A “golden age” of rat research may be here. Wh...   \n",
       "1  First newborns join screening for 200 rare dis...   \n",
       "2       Genomics reveals sled dogs' Siberian lineage   \n",
       "3  Outbreak detection under-resourced in Asia, st...   \n",
       "4  OpenAI's investors include Silicon Valley's mo...   \n",
       "\n",
       "                                         description  \\\n",
       "0  Rat and human lives have long intersected, but...   \n",
       "1  The new study uses genome sequencing to detect...   \n",
       "2  New research examines thousands of years of Ar...   \n",
       "3  A new study has revealed that despite the rece...   \n",
       "4  OpenAI's investors include Silicon Valley's mo...   \n",
       "\n",
       "                                                 url  \\\n",
       "0  https://www.npr.org/sections/shots-health-news...   \n",
       "1     https://www.bbc.com/news/articles/c70z8ppjlddo   \n",
       "2  https://www.sciencedaily.com/releases/2024/09/...   \n",
       "3  https://www.sciencedaily.com/releases/2024/09/...   \n",
       "4  https://www.businessinsider.com/openai-investo...   \n",
       "\n",
       "                                          urlToImage           publishedAt  \\\n",
       "0  https://npr.brightspotcdn.com/dims3/default/st...  2024-09-20T11:23:58Z   \n",
       "1  https://ichef.bbci.co.uk/news/1024/branded_new...  2024-10-03T00:05:37Z   \n",
       "2  https://www.sciencedaily.com/images/scidaily-i...  2024-09-16T15:55:30Z   \n",
       "3  https://www.sciencedaily.com/images/scidaily-i...  2024-09-24T16:30:08Z   \n",
       "4  https://i.insider.com/65081a0cf05aa00019bdfa0f...  2024-10-03T13:00:01Z   \n",
       "\n",
       "                                             content  \n",
       "0  When ecologist Jason Munshi-South started stud...  \n",
       "1  Dominika's one-day-old daughter Emilia is part...  \n",
       "2  New research co-led by Cornell University exam...  \n",
       "3  A landmark study led by Duke-NUS Medical Schoo...  \n",
       "4  SoftBank boss Masayoshi Son. Tomohiro Ohsumi/G...  "
      ]
     },
     "execution_count": 10,
     "metadata": {},
     "output_type": "execute_result"
    }
   ],
   "source": [
    "df = pipeline.extract_font(df)\n",
    "\n",
    "df.head()"
   ]
  },
  {
   "cell_type": "code",
   "execution_count": 9,
   "metadata": {},
   "outputs": [
    {
     "data": {
      "text/plain": [
       "Index(['source', 'author', 'title', 'description', 'url', 'urlToImage',\n",
       "       'publishedAt', 'content'],\n",
       "      dtype='object')"
      ]
     },
     "execution_count": 9,
     "metadata": {},
     "output_type": "execute_result"
    }
   ],
   "source": [
    "df.columns"
   ]
  },
  {
   "cell_type": "code",
   "execution_count": 10,
   "metadata": {},
   "outputs": [
    {
     "data": {
      "text/plain": [
       "(500, 8)"
      ]
     },
     "execution_count": 10,
     "metadata": {},
     "output_type": "execute_result"
    }
   ],
   "source": [
    "df.shape"
   ]
  },
  {
   "cell_type": "code",
   "execution_count": 16,
   "metadata": {},
   "outputs": [
    {
     "name": "stdout",
     "output_type": "stream",
     "text": [
      "Total de linhas duplicadas: 1\n",
      "             source           author  \\\n",
      "395  ETF Daily News  MarketBeat News   \n",
      "400  ETF Daily News  MarketBeat News   \n",
      "\n",
      "                                                 title  \\\n",
      "395  Agilent Technologies, Inc. (NYSE:A) Shares Sol...   \n",
      "400  Agilent Technologies, Inc. (NYSE:A) Shares Sol...   \n",
      "\n",
      "                                           description  \\\n",
      "395  Mackenzie Financial Corp cut its stake in Agil...   \n",
      "400  Mackenzie Financial Corp cut its stake in Agil...   \n",
      "\n",
      "                                                   url  \\\n",
      "395  https://www.etfdailynews.com/2024/09/29/agilen...   \n",
      "400  https://www.etfdailynews.com/2024/09/29/agilen...   \n",
      "\n",
      "                                            urlToImage           publishedAt  \\\n",
      "395  https://www.americanbankingnews.com/wp-content...  2024-09-29T17:33:17Z   \n",
      "400  https://www.americanbankingnews.com/wp-content...  2024-09-29T17:33:17Z   \n",
      "\n",
      "                                               content  \n",
      "395  Mackenzie Financial Corp cut its stake in Agil...  \n",
      "400  Mackenzie Financial Corp cut its stake in Agil...  \n"
     ]
    }
   ],
   "source": [
    "# Encontra as linhas duplicadas\n",
    "dulplicados = df[df.duplicated(keep=False)]\n",
    "\n",
    "# Conta o numero de linhas duplicadas\n",
    "num_duplicados = df.duplicated().sum()\n",
    "\n",
    "# Verifica se existem duplicadas e caso negativo envia uma mgs\n",
    "if num_duplicados>0:\n",
    "    print (f\"Total de linhas duplicadas: {num_duplicados}\")\n",
    "    print (dulplicados)\n",
    "else:\n",
    "    print (\"Não forma encontradas linhas duplicadas no DataFrame\")\n",
    "    \n"
   ]
  },
  {
   "cell_type": "code",
   "execution_count": 20,
   "metadata": {},
   "outputs": [
    {
     "data": {
      "text/plain": [
       "(499, 8)"
      ]
     },
     "execution_count": 20,
     "metadata": {},
     "output_type": "execute_result"
    }
   ],
   "source": [
    "# Retirando as linhas duplicadas\n",
    "df = df.drop_duplicates()\n",
    "df.shape\n"
   ]
  },
  {
   "cell_type": "code",
   "execution_count": 21,
   "metadata": {},
   "outputs": [
    {
     "name": "stdout",
     "output_type": "stream",
     "text": [
      "source          0\n",
      "author         43\n",
      "title           1\n",
      "description     1\n",
      "url             0\n",
      "urlToImage     26\n",
      "publishedAt     0\n",
      "content         0\n",
      "dtype: int64\n"
     ]
    }
   ],
   "source": [
    "# Verificando colunas com valores nulos\n",
    "nulos = df.isnull().sum()\n",
    "print (nulos)"
   ]
  },
  {
   "cell_type": "code",
   "execution_count": 22,
   "metadata": {},
   "outputs": [
    {
     "data": {
      "text/html": [
       "<div>\n",
       "<style scoped>\n",
       "    .dataframe tbody tr th:only-of-type {\n",
       "        vertical-align: middle;\n",
       "    }\n",
       "\n",
       "    .dataframe tbody tr th {\n",
       "        vertical-align: top;\n",
       "    }\n",
       "\n",
       "    .dataframe thead th {\n",
       "        text-align: right;\n",
       "    }\n",
       "</style>\n",
       "<table border=\"1\" class=\"dataframe\">\n",
       "  <thead>\n",
       "    <tr style=\"text-align: right;\">\n",
       "      <th></th>\n",
       "      <th>source</th>\n",
       "      <th>author</th>\n",
       "      <th>title</th>\n",
       "      <th>description</th>\n",
       "      <th>url</th>\n",
       "      <th>publishedAt</th>\n",
       "      <th>content</th>\n",
       "    </tr>\n",
       "  </thead>\n",
       "  <tbody>\n",
       "    <tr>\n",
       "      <th>0</th>\n",
       "      <td>NPR</td>\n",
       "      <td>Nathan Rott</td>\n",
       "      <td>A “golden age” of rat research may be here. Wh...</td>\n",
       "      <td>Rat and human lives have long intersected, but...</td>\n",
       "      <td>https://www.npr.org/sections/shots-health-news...</td>\n",
       "      <td>2024-09-20T11:23:58Z</td>\n",
       "      <td>When ecologist Jason Munshi-South started stud...</td>\n",
       "    </tr>\n",
       "    <tr>\n",
       "      <th>1</th>\n",
       "      <td>BBC News</td>\n",
       "      <td>None</td>\n",
       "      <td>First newborns join screening for 200 rare dis...</td>\n",
       "      <td>The new study uses genome sequencing to detect...</td>\n",
       "      <td>https://www.bbc.com/news/articles/c70z8ppjlddo</td>\n",
       "      <td>2024-10-03T00:05:37Z</td>\n",
       "      <td>Dominika's one-day-old daughter Emilia is part...</td>\n",
       "    </tr>\n",
       "    <tr>\n",
       "      <th>2</th>\n",
       "      <td>Science Daily</td>\n",
       "      <td>None</td>\n",
       "      <td>Genomics reveals sled dogs' Siberian lineage</td>\n",
       "      <td>New research examines thousands of years of Ar...</td>\n",
       "      <td>https://www.sciencedaily.com/releases/2024/09/...</td>\n",
       "      <td>2024-09-16T15:55:30Z</td>\n",
       "      <td>New research co-led by Cornell University exam...</td>\n",
       "    </tr>\n",
       "    <tr>\n",
       "      <th>3</th>\n",
       "      <td>Science Daily</td>\n",
       "      <td>None</td>\n",
       "      <td>Outbreak detection under-resourced in Asia, st...</td>\n",
       "      <td>A new study has revealed that despite the rece...</td>\n",
       "      <td>https://www.sciencedaily.com/releases/2024/09/...</td>\n",
       "      <td>2024-09-24T16:30:08Z</td>\n",
       "      <td>A landmark study led by Duke-NUS Medical Schoo...</td>\n",
       "    </tr>\n",
       "    <tr>\n",
       "      <th>4</th>\n",
       "      <td>Business Insider</td>\n",
       "      <td>Darius Rafieyan</td>\n",
       "      <td>OpenAI's investors include Silicon Valley's mo...</td>\n",
       "      <td>OpenAI's investors include Silicon Valley's mo...</td>\n",
       "      <td>https://www.businessinsider.com/openai-investo...</td>\n",
       "      <td>2024-10-03T13:00:01Z</td>\n",
       "      <td>SoftBank boss Masayoshi Son. Tomohiro Ohsumi/G...</td>\n",
       "    </tr>\n",
       "  </tbody>\n",
       "</table>\n",
       "</div>"
      ],
      "text/plain": [
       "             source           author  \\\n",
       "0               NPR      Nathan Rott   \n",
       "1          BBC News             None   \n",
       "2     Science Daily             None   \n",
       "3     Science Daily             None   \n",
       "4  Business Insider  Darius Rafieyan   \n",
       "\n",
       "                                               title  \\\n",
       "0  A “golden age” of rat research may be here. Wh...   \n",
       "1  First newborns join screening for 200 rare dis...   \n",
       "2       Genomics reveals sled dogs' Siberian lineage   \n",
       "3  Outbreak detection under-resourced in Asia, st...   \n",
       "4  OpenAI's investors include Silicon Valley's mo...   \n",
       "\n",
       "                                         description  \\\n",
       "0  Rat and human lives have long intersected, but...   \n",
       "1  The new study uses genome sequencing to detect...   \n",
       "2  New research examines thousands of years of Ar...   \n",
       "3  A new study has revealed that despite the rece...   \n",
       "4  OpenAI's investors include Silicon Valley's mo...   \n",
       "\n",
       "                                                 url           publishedAt  \\\n",
       "0  https://www.npr.org/sections/shots-health-news...  2024-09-20T11:23:58Z   \n",
       "1     https://www.bbc.com/news/articles/c70z8ppjlddo  2024-10-03T00:05:37Z   \n",
       "2  https://www.sciencedaily.com/releases/2024/09/...  2024-09-16T15:55:30Z   \n",
       "3  https://www.sciencedaily.com/releases/2024/09/...  2024-09-24T16:30:08Z   \n",
       "4  https://www.businessinsider.com/openai-investo...  2024-10-03T13:00:01Z   \n",
       "\n",
       "                                             content  \n",
       "0  When ecologist Jason Munshi-South started stud...  \n",
       "1  Dominika's one-day-old daughter Emilia is part...  \n",
       "2  New research co-led by Cornell University exam...  \n",
       "3  A landmark study led by Duke-NUS Medical Schoo...  \n",
       "4  SoftBank boss Masayoshi Son. Tomohiro Ohsumi/G...  "
      ]
     },
     "execution_count": 22,
     "metadata": {},
     "output_type": "execute_result"
    }
   ],
   "source": [
    "# Retirando coluna não importante\n",
    "df = df.drop(columns=['urlToImage'])\n",
    "df.head()"
   ]
  },
  {
   "cell_type": "code",
   "execution_count": null,
   "metadata": {},
   "outputs": [],
   "source": [
    "# Alterando os nomes das colunas para português\n",
    "\n",
    "renomear_colunas = {\n",
    "    'author': 'Autor',\n",
    "    'title': 'Título',\n",
    "    'description': 'Descrição',\n",
    "    'url' : 'URL',\n",
    "    'publishedAt': 'Data Publicação',\n",
    "    'content': 'Conteúdo',\n",
    "    'source': 'Fonte'\n",
    "}\n",
    "\n",
    "df = df.rename(columns=renomear_colunas)\n",
    "\n",
    "print (df.columns)\n",
    "\n",
    "df.head()"
   ]
  },
  {
   "cell_type": "code",
   "execution_count": null,
   "metadata": {},
   "outputs": [],
   "source": [
    "# Alterando ordem da coluna\n",
    "\n",
    "ordenamento_colunas = ['Data Publicação', 'Título', 'Autor', 'Descrição', 'URL', 'Fonte', 'Conteúdo']\n",
    "\n",
    "df = df[ordenamento_colunas]\n",
    "\n",
    "df.head()"
   ]
  },
  {
   "cell_type": "code",
   "execution_count": null,
   "metadata": {},
   "outputs": [],
   "source": [
    "# Alterando a Data de Publicação somente para data e sem horário de publicação\n",
    "\n",
    "df['Data Publicação'] = pd.to_datetime(df['Data Publicação'], format='ISO8601')\n",
    "df['Data Publicação'] = df['Data Publicação'].dt.strftime('%Y/%m/%d')\n",
    "\n",
    "\n",
    "df.head()"
   ]
  },
  {
   "cell_type": "code",
   "execution_count": null,
   "metadata": {},
   "outputs": [],
   "source": [
    "df = df.sort_values('Data Publicação').reset_index().drop(columns=['index'])\n",
    "\n",
    "df.head()"
   ]
  }
 ],
 "metadata": {
  "kernelspec": {
   "display_name": "Python 3",
   "language": "python",
   "name": "python3"
  },
  "language_info": {
   "codemirror_mode": {
    "name": "ipython",
    "version": 3
   },
   "file_extension": ".py",
   "mimetype": "text/x-python",
   "name": "python",
   "nbconvert_exporter": "python",
   "pygments_lexer": "ipython3",
   "version": "3.12.4"
  }
 },
 "nbformat": 4,
 "nbformat_minor": 2
}
