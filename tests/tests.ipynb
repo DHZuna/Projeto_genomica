{
 "cells": [
  {
   "cell_type": "code",
   "execution_count": 12,
   "metadata": {},
   "outputs": [],
   "source": [
    "# Bibliotecas\n",
    "import sys\n",
    "import os\n",
    "from newsapi import NewsApiClient\n",
    "import pandas as pd\n",
    "import numpy as np"
   ]
  },
  {
   "cell_type": "code",
   "execution_count": 13,
   "metadata": {},
   "outputs": [],
   "source": [
    "# Variáveis\n",
    "sys.path.append(os.path.abspath(os.path.join(os.path.dirname(\"tests.ipynb\"), \"..\", \"env\")))\n",
    "from env_variables import apikey as apikey_temp"
   ]
  },
  {
   "cell_type": "code",
   "execution_count": 14,
   "metadata": {},
   "outputs": [],
   "source": [
    "# Scripts\n",
    "sys.path.append(os.path.abspath(os.path.join(os.path.dirname(\"tests.ipynb\"), \"..\", \"env\")))\n",
    "from criteria import Search_Criteria\n",
    "\n",
    "sys.path.append(os.path.abspath(os.path.join(os.path.dirname(\"tests.ipynb\"), \"..\", \"api\")))\n",
    "from api import APIClient\n",
    "\n",
    "sys.path.append(os.path.abspath(os.path.join(os.path.dirname(\"tests.ipynb\"), \"..\", \"pipeline\")))\n",
    "from pipeline import Data_Pipeline_API"
   ]
  },
  {
   "cell_type": "code",
   "execution_count": 15,
   "metadata": {},
   "outputs": [],
   "source": [
    "# Instanciando objeto de critérios de pesquisa\n",
    "search_object = Search_Criteria(\"genomics\", [\"DNA\", \"genetic\", \"treatment\"])"
   ]
  },
  {
   "cell_type": "code",
   "execution_count": 16,
   "metadata": {},
   "outputs": [],
   "source": [
    "# Instanciando API\n",
    "news_api = APIClient(apikey_temp, search_object.subject)\n",
    "\n",
    "# Adquirindo todos os artigos\n",
    "news_api.get_articles()"
   ]
  },
  {
   "cell_type": "code",
   "execution_count": 17,
   "metadata": {},
   "outputs": [],
   "source": [
    "# Instanciando Pipeline\n",
    "pipeline_data = Data_Pipeline_API()\n",
    "\n",
    "# Carregando dados da API\n",
    "pipeline_data.load_api(news_api.articles)\n",
    "\n",
    "# Salvando em Parquet\n",
    "pipeline_data.save_data(\"raw_data\")"
   ]
  },
  {
   "cell_type": "code",
   "execution_count": 18,
   "metadata": {},
   "outputs": [],
   "source": [
    "# Importando DataFrame\n",
    "pipeline_data.load_parquet(\"raw_data\")\n",
    "\n",
    "# Limpeza de dados\n",
    "pipeline_data.data_cleaning()\n",
    "\n",
    "# Salvando Parquet\n",
    "pipeline_data.save_data(\"cleaned_data\")"
   ]
  },
  {
   "cell_type": "code",
   "execution_count": 19,
   "metadata": {},
   "outputs": [
    {
     "data": {
      "text/plain": [
       "(577, 8)"
      ]
     },
     "execution_count": 19,
     "metadata": {},
     "output_type": "execute_result"
    }
   ],
   "source": [
    "pipeline_data = Data_Pipeline_API()\n",
    "pipeline_data.load_parquet(\"raw_data\")\n",
    "pipeline_data.df_parquet.shape"
   ]
  },
  {
   "cell_type": "code",
   "execution_count": 20,
   "metadata": {},
   "outputs": [
    {
     "data": {
      "text/plain": [
       "(577, 7)"
      ]
     },
     "execution_count": 20,
     "metadata": {},
     "output_type": "execute_result"
    }
   ],
   "source": [
    "pipeline_data.load_parquet(\"cleaned_data\")\n",
    "pipeline_data.df_parquet.shape"
   ]
  }
 ],
 "metadata": {
  "kernelspec": {
   "display_name": ".venv",
   "language": "python",
   "name": "python3"
  },
  "language_info": {
   "codemirror_mode": {
    "name": "ipython",
    "version": 3
   },
   "file_extension": ".py",
   "mimetype": "text/x-python",
   "name": "python",
   "nbconvert_exporter": "python",
   "pygments_lexer": "ipython3",
   "version": "3.12.5"
  }
 },
 "nbformat": 4,
 "nbformat_minor": 2
}
